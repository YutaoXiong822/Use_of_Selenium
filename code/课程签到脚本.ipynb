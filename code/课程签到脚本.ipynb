{
 "cells": [
  {
   "cell_type": "code",
   "execution_count": null,
   "id": "dcb53ece",
   "metadata": {},
   "outputs": [],
   "source": [
    "# Career Management class system sign-in script\n",
    "\n",
    "from selenium import webdriver\n",
    "from selenium.webdriver.common.by import By\n",
    "from selenium.webdriver.support.ui import WebDriverWait\n",
    "from selenium.webdriver.support import expected_conditions as EC\n",
    "from selenium.webdriver.support.ui import Select\n",
    "import time"
   ]
  },
  {
   "cell_type": "code",
   "execution_count": 2,
   "id": "06b9f175",
   "metadata": {},
   "outputs": [
    {
     "ename": "TimeoutException",
     "evalue": "Message: \nStacktrace:\n0   chromedriver                        0x00000001051b44a4 chromedriver + 4326564\n1   chromedriver                        0x00000001051ac96c chromedriver + 4295020\n2   chromedriver                        0x0000000104dd8088 chromedriver + 278664\n3   chromedriver                        0x0000000104e1aa80 chromedriver + 551552\n4   chromedriver                        0x0000000104e534f8 chromedriver + 783608\n5   chromedriver                        0x0000000104e0f4e4 chromedriver + 505060\n6   chromedriver                        0x0000000104e0ff5c chromedriver + 507740\n7   chromedriver                        0x0000000105177a40 chromedriver + 4078144\n8   chromedriver                        0x000000010517c7f8 chromedriver + 4098040\n9   chromedriver                        0x000000010515e5e4 chromedriver + 3974628\n10  chromedriver                        0x000000010517d110 chromedriver + 4100368\n11  chromedriver                        0x000000010514fbd4 chromedriver + 3914708\n12  chromedriver                        0x000000010519d718 chromedriver + 4232984\n13  chromedriver                        0x000000010519d894 chromedriver + 4233364\n14  chromedriver                        0x00000001051ac5e0 chromedriver + 4294112\n15  libsystem_pthread.dylib             0x0000000180d6ef94 _pthread_start + 136\n16  libsystem_pthread.dylib             0x0000000180d69d34 thread_start + 8\n",
     "output_type": "error",
     "traceback": [
      "\u001b[0;31m---------------------------------------------------------------------------\u001b[0m",
      "\u001b[0;31mTimeoutException\u001b[0m                          Traceback (most recent call last)",
      "Cell \u001b[0;32mIn[2], line 7\u001b[0m\n\u001b[1;32m      4\u001b[0m     driver\u001b[38;5;241m.\u001b[39mget(\u001b[38;5;124m'\u001b[39m\u001b[38;5;124mhttps://canvas.rutgers.edu/\u001b[39m\u001b[38;5;124m'\u001b[39m)\n\u001b[1;32m      6\u001b[0m      \u001b[38;5;66;03m# 等待页面加载完毕\u001b[39;00m\n\u001b[0;32m----> 7\u001b[0m     WebDriverWait(driver, \u001b[38;5;241m10\u001b[39m)\u001b[38;5;241m.\u001b[39muntil(EC\u001b[38;5;241m.\u001b[39mpresence_of_element_located((By\u001b[38;5;241m.\u001b[39mID, \u001b[38;5;124m'\u001b[39m\u001b[38;5;124mhistorysearchform\u001b[39m\u001b[38;5;124m'\u001b[39m)))\n\u001b[1;32m      8\u001b[0m \u001b[38;5;28;01mfinally\u001b[39;00m:\n\u001b[1;32m      9\u001b[0m         \u001b[38;5;28;01mpass\u001b[39;00m\n",
      "File \u001b[0;32m~/anaconda3/lib/python3.11/site-packages/selenium/webdriver/support/wait.py:105\u001b[0m, in \u001b[0;36mWebDriverWait.until\u001b[0;34m(self, method, message)\u001b[0m\n\u001b[1;32m    103\u001b[0m     \u001b[38;5;28;01mif\u001b[39;00m time\u001b[38;5;241m.\u001b[39mmonotonic() \u001b[38;5;241m>\u001b[39m end_time:\n\u001b[1;32m    104\u001b[0m         \u001b[38;5;28;01mbreak\u001b[39;00m\n\u001b[0;32m--> 105\u001b[0m \u001b[38;5;28;01mraise\u001b[39;00m TimeoutException(message, screen, stacktrace)\n",
      "\u001b[0;31mTimeoutException\u001b[0m: Message: \nStacktrace:\n0   chromedriver                        0x00000001051b44a4 chromedriver + 4326564\n1   chromedriver                        0x00000001051ac96c chromedriver + 4295020\n2   chromedriver                        0x0000000104dd8088 chromedriver + 278664\n3   chromedriver                        0x0000000104e1aa80 chromedriver + 551552\n4   chromedriver                        0x0000000104e534f8 chromedriver + 783608\n5   chromedriver                        0x0000000104e0f4e4 chromedriver + 505060\n6   chromedriver                        0x0000000104e0ff5c chromedriver + 507740\n7   chromedriver                        0x0000000105177a40 chromedriver + 4078144\n8   chromedriver                        0x000000010517c7f8 chromedriver + 4098040\n9   chromedriver                        0x000000010515e5e4 chromedriver + 3974628\n10  chromedriver                        0x000000010517d110 chromedriver + 4100368\n11  chromedriver                        0x000000010514fbd4 chromedriver + 3914708\n12  chromedriver                        0x000000010519d718 chromedriver + 4232984\n13  chromedriver                        0x000000010519d894 chromedriver + 4233364\n14  chromedriver                        0x00000001051ac5e0 chromedriver + 4294112\n15  libsystem_pthread.dylib             0x0000000180d6ef94 _pthread_start + 136\n16  libsystem_pthread.dylib             0x0000000180d69d34 thread_start + 8\n"
     ]
    }
   ],
   "source": [
    "driver = webdriver.Chrome()\n",
    "try:\n",
    "    # 打开目标网页\n",
    "    driver.get('https://canvas.rutgers.edu/')\n",
    "\n",
    "     # 等待页面加载完毕\n",
    "    WebDriverWait(driver, 10).until(EC.presence_of_element_located((By.ID, 'historysearchform')))\n",
    "finally:\n",
    "        pass"
   ]
  },
  {
   "cell_type": "code",
   "execution_count": null,
   "id": "836e2883",
   "metadata": {},
   "outputs": [],
   "source": [
    "# 定位并输入账号密码\n",
    "\n",
    "click_login_xpath = '/html/body/header/div[1]/div/div[3]/div/div[1]/a'\n",
    "click_login = driver.find_element(By.XPATH, click_login_xpath)\n",
    "click_login.click()\n",
    "\n",
    "user_xpath = '//*[@id=\"username\"]'\n",
    "user_input = driver.find_element(By.XPATH, user_xpath)\n",
    "user_input.clear()\n",
    "user_input.send_keys('username')\n",
    "\n",
    "pswd_xpath = '//*[@id=\"password\"]'\n",
    "pswd_input = driver.find_element(By.XPATH, pswd_xpath)\n",
    "pswd_input.clear()\n",
    "pswd_input.send_keys('password')\n",
    "\n",
    "login_xpath = '//*[@id=\"fm1\"]/input[4]'\n",
    "login = driver.find_element(By.XPATH, login_xpath)\n",
    "login.click()"
   ]
  },
  {
   "cell_type": "code",
   "execution_count": null,
   "id": "2d3e7b39",
   "metadata": {},
   "outputs": [],
   "source": []
  },
  {
   "cell_type": "code",
   "execution_count": 4,
   "id": "3f9d9851",
   "metadata": {},
   "outputs": [
    {
     "ename": "KeyboardInterrupt",
     "evalue": "",
     "output_type": "error",
     "traceback": [
      "\u001b[0;31m---------------------------------------------------------------------------\u001b[0m",
      "\u001b[0;31mKeyboardInterrupt\u001b[0m                         Traceback (most recent call last)",
      "Cell \u001b[0;32mIn[4], line 21\u001b[0m\n\u001b[1;32m     19\u001b[0m driver\u001b[38;5;241m.\u001b[39mswitch_to\u001b[38;5;241m.\u001b[39mwindow(main_window_handle)\n\u001b[1;32m     20\u001b[0m \u001b[38;5;66;03m# 等待30秒\u001b[39;00m\n\u001b[0;32m---> 21\u001b[0m time\u001b[38;5;241m.\u001b[39msleep(\u001b[38;5;241m30\u001b[39m)\n",
      "\u001b[0;31mKeyboardInterrupt\u001b[0m: "
     ]
    }
   ],
   "source": [
    "while True:\n",
    "    attend_xpath = '//*[@id=\"section-tabs\"]/li[7]/a'\n",
    "    attend = driver.find_element(By.XPATH, attend_xpath)\n",
    "    attend.click()\n",
    "    \n",
    "    time.sleep(5)\n",
    "    \n",
    "    # 获取所有窗口\n",
    "    window_handles = driver.window_handles\n",
    "    main_window_handle = driver.current_window_handle\n",
    "    # 切换到新窗口\n",
    "    for handle in window_handles:\n",
    "        if handle != main_window_handle:\n",
    "            driver.switch_to.window(handle)\n",
    "            break\n",
    "    # 关闭新窗口\n",
    "    driver.close()\n",
    "    time.sleep(5)\n",
    "    driver.switch_to.window(main_window_handle)\n",
    "    # 等待30秒\n",
    "    time.sleep(30)"
   ]
  },
  {
   "cell_type": "code",
   "execution_count": null,
   "id": "14294a94",
   "metadata": {},
   "outputs": [],
   "source": []
  },
  {
   "cell_type": "code",
   "execution_count": null,
   "id": "4bb4384a",
   "metadata": {},
   "outputs": [],
   "source": []
  }
 ],
 "metadata": {
  "kernelspec": {
   "display_name": "Python 3 (ipykernel)",
   "language": "python",
   "name": "python3"
  },
  "language_info": {
   "codemirror_mode": {
    "name": "ipython",
    "version": 3
   },
   "file_extension": ".py",
   "mimetype": "text/x-python",
   "name": "python",
   "nbconvert_exporter": "python",
   "pygments_lexer": "ipython3",
   "version": "3.11.4"
  },
  "varInspector": {
   "cols": {
    "lenName": 16,
    "lenType": 16,
    "lenVar": 40
   },
   "kernels_config": {
    "python": {
     "delete_cmd_postfix": "",
     "delete_cmd_prefix": "del ",
     "library": "var_list.py",
     "varRefreshCmd": "print(var_dic_list())"
    },
    "r": {
     "delete_cmd_postfix": ") ",
     "delete_cmd_prefix": "rm(",
     "library": "var_list.r",
     "varRefreshCmd": "cat(var_dic_list()) "
    }
   },
   "types_to_exclude": [
    "module",
    "function",
    "builtin_function_or_method",
    "instance",
    "_Feature"
   ],
   "window_display": false
  }
 },
 "nbformat": 4,
 "nbformat_minor": 5
}
